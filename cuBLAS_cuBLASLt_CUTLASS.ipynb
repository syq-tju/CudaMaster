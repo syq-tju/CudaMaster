{
  "nbformat": 4,
  "nbformat_minor": 0,
  "metadata": {
    "colab": {
      "provenance": [],
      "machine_shape": "hm",
      "gpuType": "T4",
      "authorship_tag": "ABX9TyNguji5fyQYe9IA5murNlI2",
      "include_colab_link": true
    },
    "kernelspec": {
      "name": "python3",
      "display_name": "Python 3"
    },
    "language_info": {
      "name": "python"
    },
    "accelerator": "GPU"
  },
  "cells": [
    {
      "cell_type": "markdown",
      "metadata": {
        "id": "view-in-github",
        "colab_type": "text"
      },
      "source": [
        "<a href=\"https://colab.research.google.com/github/syq-tju/CudaMaster/blob/main/cuBLAS_cuBLASLt_CUTLASS.ipynb\" target=\"_parent\"><img src=\"https://colab.research.google.com/assets/colab-badge.svg\" alt=\"Open In Colab\"/></a>"
      ]
    },
    {
      "cell_type": "code",
      "source": [
        "!git clone https://github.com/NVIDIA/cutlass.git\n",
        "\n"
      ],
      "metadata": {
        "id": "sHQDHJ2bBWHO"
      },
      "execution_count": null,
      "outputs": []
    },
    {
      "cell_type": "code",
      "source": [
        "!nvcc cublas_example.cu -o cublas_example -lcublas\n",
        "!./cublas_example\n"
      ],
      "metadata": {
        "colab": {
          "base_uri": "https://localhost:8080/"
        },
        "id": "sOspLm10CmLp",
        "outputId": "07d33d72-9bcd-4b2c-f004-e9e5609e9c91"
      },
      "execution_count": 12,
      "outputs": [
        {
          "output_type": "stream",
          "name": "stdout",
          "text": [
            "cuBLAS time: 64.878 ms\n"
          ]
        }
      ]
    },
    {
      "cell_type": "code",
      "source": [
        "!nvcc cublaslt_example.cu -o cublaslt_example -lcublasLt\n",
        "!./cublaslt_example\n",
        "\n"
      ],
      "metadata": {
        "colab": {
          "base_uri": "https://localhost:8080/"
        },
        "id": "ix51o5N6EQOH",
        "outputId": "98229eb3-804f-4c71-a3d6-172c2e02e6bc"
      },
      "execution_count": 13,
      "outputs": [
        {
          "output_type": "stream",
          "name": "stdout",
          "text": [
            "cuBLASLt time: 3.90042 ms\n"
          ]
        }
      ]
    },
    {
      "cell_type": "code",
      "source": [
        "!nvcc cutlass_example.cu -o cutlass_example -Icutlass/include -Icutlass/tools/util/include -L/usr/local/cuda/lib64 -lcuda -lcudart -lcublas -lcublasLt -lnvToolsExt\n",
        "!./cutlass_example"
      ],
      "metadata": {
        "colab": {
          "base_uri": "https://localhost:8080/"
        },
        "id": "_nN6ErNSERZB",
        "outputId": "9abe2e1c-fae7-4a6a-a7d2-5313ed2279d1"
      },
      "execution_count": 14,
      "outputs": [
        {
          "output_type": "stream",
          "name": "stdout",
          "text": [
            "\u001b[01m\u001b[0m\u001b[01mcutlass/include/cutlass/conv/conv3d_problem_size.h(215)\u001b[0m: \u001b[01;35mwarning\u001b[0m #20013-D: calling a constexpr __host__ function(\"\u001b[01mget\u001b[0m\") from a __host__ __device__ function(\"\u001b[01mConv3dProblemSize\u001b[0m\") is not allowed. The experimental flag '--expt-relaxed-constexpr' can be used to allow this.\n",
            "        {std::get<0>(padding)[1], std::get<1>(padding)[1],\n",
            "         ^\n",
            "\n",
            "\u001b[01;36m\u001b[0m\u001b[01;36mRemark\u001b[0m: The warnings can be suppressed with \"-diag-suppress <warning-number>\"\n",
            "\n",
            "\u001b[01m\u001b[0m\u001b[01mcutlass/include/cutlass/conv/conv3d_problem_size.h(215)\u001b[0m: \u001b[01;35mwarning\u001b[0m #20013-D: calling a constexpr __host__ function(\"\u001b[01mget\u001b[0m\") from a __host__ __device__ function(\"\u001b[01mConv3dProblemSize\u001b[0m\") is not allowed. The experimental flag '--expt-relaxed-constexpr' can be used to allow this.\n",
            "        {std::get<0>(padding)[1], std::get<1>(padding)[1],\n",
            "                                  ^\n",
            "\n",
            "\u001b[01m\u001b[0m\u001b[01mcutlass/include/cutlass/conv/conv3d_problem_size.h(216)\u001b[0m: \u001b[01;35mwarning\u001b[0m #20013-D: calling a constexpr __host__ function(\"\u001b[01mget\u001b[0m\") from a __host__ __device__ function(\"\u001b[01mConv3dProblemSize\u001b[0m\") is not allowed. The experimental flag '--expt-relaxed-constexpr' can be used to allow this.\n",
            "         std::get<0>(padding)[2], std::get<1>(padding)[2]},\n",
            "         ^\n",
            "\n",
            "\u001b[01m\u001b[0m\u001b[01mcutlass/include/cutlass/conv/conv3d_problem_size.h(216)\u001b[0m: \u001b[01;35mwarning\u001b[0m #20013-D: calling a constexpr __host__ function(\"\u001b[01mget\u001b[0m\") from a __host__ __device__ function(\"\u001b[01mConv3dProblemSize\u001b[0m\") is not allowed. The experimental flag '--expt-relaxed-constexpr' can be used to allow this.\n",
            "         std::get<0>(padding)[2], std::get<1>(padding)[2]},\n",
            "                                  ^\n",
            "\n",
            "\u001b[01m\u001b[0m\u001b[01mcutlass/include/cutlass/conv/conv3d_problem_size.h(221)\u001b[0m: \u001b[01;35mwarning\u001b[0m #20013-D: calling a constexpr __host__ function(\"\u001b[01mget\u001b[0m\") from a __host__ __device__ function(\"\u001b[01mConv3dProblemSize\u001b[0m\") is not allowed. The experimental flag '--expt-relaxed-constexpr' can be used to allow this.\n",
            "      pad_d(std::get<0>(padding)[0]), stride_d(stride[0]), dilation_d(dilation[0])\n",
            "            ^\n",
            "\n",
            "\u001b[01m\u001b[0m\u001b[01mcutlass/include/cutlass/conv/conv3d_problem_size.h(224)\u001b[0m: \u001b[01;35mwarning\u001b[0m #20013-D: calling a constexpr __host__ function(\"\u001b[01mget\u001b[0m\") from a __host__ __device__ function(\"\u001b[01mConv3dProblemSize\u001b[0m\") is not allowed. The experimental flag '--expt-relaxed-constexpr' can be used to allow this.\n",
            "        Z = ((D + pad_d + std::get<1>(padding)[0] - T * dilation_d) / stride_d) + 1;\n",
            "                          ^\n",
            "\n",
            "\u001b[01m\u001b[0m\u001b[01mcutlass/include/cutlass/conv/conv3d_problem_size.h(212)\u001b[0m: \u001b[01;35mwarning\u001b[0m #20015-D: calling a constexpr __host__ function from a __host__ __device__ function is not allowed. The experimental flag '--expt-relaxed-constexpr' can be used to allow this.\n",
            "      Conv2dProblemSize(\n",
            "      ^\n",
            "\n",
            "\u001b[01m\u001b[0m\u001b[01mcutlass/include/cutlass/conv/conv3d_problem_size.h(215)\u001b[0m: \u001b[01;35mwarning\u001b[0m #20015-D: calling a constexpr __host__ function from a __host__ __device__ function is not allowed. The experimental flag '--expt-relaxed-constexpr' can be used to allow this.\n",
            "        {std::get<0>(padding)[1], std::get<1>(padding)[1],\n",
            "                              ^\n",
            "\n",
            "\u001b[01m\u001b[0m\u001b[01mcutlass/include/cutlass/conv/conv3d_problem_size.h(215)\u001b[0m: \u001b[01;35mwarning\u001b[0m #20015-D: calling a constexpr __host__ function from a __host__ __device__ function is not allowed. The experimental flag '--expt-relaxed-constexpr' can be used to allow this.\n",
            "        {std::get<0>(padding)[1], std::get<1>(padding)[1],\n",
            "                                                       ^\n",
            "\n",
            "\u001b[01m\u001b[0m\u001b[01mcutlass/include/cutlass/conv/conv3d_problem_size.h(216)\u001b[0m: \u001b[01;35mwarning\u001b[0m #20015-D: calling a constexpr __host__ function from a __host__ __device__ function is not allowed. The experimental flag '--expt-relaxed-constexpr' can be used to allow this.\n",
            "         std::get<0>(padding)[2], std::get<1>(padding)[2]},\n",
            "                              ^\n",
            "\n",
            "\u001b[01m\u001b[0m\u001b[01mcutlass/include/cutlass/conv/conv3d_problem_size.h(221)\u001b[0m: \u001b[01;35mwarning\u001b[0m #20015-D: calling a constexpr __host__ function from a __host__ __device__ function is not allowed. The experimental flag '--expt-relaxed-constexpr' can be used to allow this.\n",
            "      pad_d(std::get<0>(padding)[0]), stride_d(stride[0]), dilation_d(dilation[0])\n",
            "      ^\n",
            "\n",
            "\u001b[01m\u001b[0m\u001b[01mcutlass/include/cutlass/conv/conv3d_problem_size.h(224)\u001b[0m: \u001b[01;35mwarning\u001b[0m #20015-D: calling a constexpr __host__ function from a __host__ __device__ function is not allowed. The experimental flag '--expt-relaxed-constexpr' can be used to allow this.\n",
            "        Z = ((D + pad_d + std::get<1>(padding)[0] - T * dilation_d) / stride_d) + 1;\n",
            "        ^\n",
            "\n",
            "CUTLASS time: 0.018944 ms\n"
          ]
        }
      ]
    },
    {
      "cell_type": "code",
      "source": [
        "import matplotlib.pyplot as plt\n",
        "\n",
        "# 从文件中读取时间数据\n",
        "with open(\"timing_results_cublas.txt\", \"r\") as f:\n",
        "    time_cublas = float(f.readline().strip())\n",
        "\n",
        "with open(\"timing_results_cublaslt.txt\", \"r\") as f:\n",
        "    time_cublasLt = float(f.readline().strip())\n",
        "\n",
        "with open(\"timing_results_cutlass.txt\", \"r\") as f:\n",
        "    time_cutlass = float(f.readline().strip())\n",
        "\n",
        "times = [time_cublas, time_cublasLt, time_cutlass]\n",
        "labels = ['cuBLAS', 'cuBLASLt', 'CUTLASS']\n",
        "\n",
        "plt.bar(labels, times, color=['blue', 'orange', 'green'])\n",
        "plt.ylabel('Time (ms)')\n",
        "plt.title('Matrix Multiplication Performance Comparison')\n",
        "plt.show()\n"
      ],
      "metadata": {
        "colab": {
          "base_uri": "https://localhost:8080/",
          "height": 452
        },
        "id": "pEApu7SLA-aL",
        "outputId": "d58622c6-5378-4302-9d50-e8a7e3cfbe32"
      },
      "execution_count": 15,
      "outputs": [
        {
          "output_type": "display_data",
          "data": {
            "text/plain": [
              "<Figure size 640x480 with 1 Axes>"
            ],
            "image/png": "[encoded data removed]"
          },
          "metadata": {}
        }
      ]
    }
  ]
}